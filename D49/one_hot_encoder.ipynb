{
 "cells": [
  {
   "cell_type": "markdown",
   "id": "5561da6e-3247-408e-aeca-0aa25faeeddc",
   "metadata": {},
   "source": [
    "# Day 49/60  Sickit-learn day 3"
   ]
  },
  {
   "cell_type": "markdown",
   "id": "b1d2b2db-489d-4b22-9ce3-86892a104e36",
   "metadata": {},
   "source": [
    "# One Hot Encoder"
   ]
  },
  {
   "cell_type": "code",
   "execution_count": 9,
   "id": "184e9660-1a84-496a-a06e-5619f4647024",
   "metadata": {},
   "outputs": [],
   "source": [
    "'''\n",
    "preprocessing steps when working with categorical data is one-hot encoding.\n",
    "This technique transforms categorical variables into a format that can be provided to machine learning algorithms to improve predictions and insights.\n",
    "One-hot encoding is a method to convert these categorical labels into a binary matrix, where each column represents a unique category, and the presence \n",
    "of a category is marked by a 1, while all other columns are marked by 0.\n",
    "'''\n",
    "import pandas as pd"
   ]
  },
  {
   "cell_type": "code",
   "execution_count": 10,
   "id": "75b6ee47-5d10-4bb3-95b3-54873d96c868",
   "metadata": {},
   "outputs": [],
   "source": [
    "d = {'sales': [100000,222000,1000000,522000,111111,222222,1111111,20000,75000,90000,1000000,10000], 'city': ['Tampa','Tampa','Orlando','Jacksonville','Miami','Jacksonville','Miami','Miami','Orlando','Orlando','Orlando','Orlando'], 'size': ['Small', 'Medium','Large','Large','Small','Medium','Large','Small','Medium','Medium','Medium','Small',]}"
   ]
  },
  {
   "cell_type": "code",
   "execution_count": 11,
   "id": "9bb338a6-09e9-401c-97ae-175c6c336ff5",
   "metadata": {},
   "outputs": [
    {
     "data": {
      "text/html": [
       "<div>\n",
       "<style scoped>\n",
       "    .dataframe tbody tr th:only-of-type {\n",
       "        vertical-align: middle;\n",
       "    }\n",
       "\n",
       "    .dataframe tbody tr th {\n",
       "        vertical-align: top;\n",
       "    }\n",
       "\n",
       "    .dataframe thead th {\n",
       "        text-align: right;\n",
       "    }\n",
       "</style>\n",
       "<table border=\"1\" class=\"dataframe\">\n",
       "  <thead>\n",
       "    <tr style=\"text-align: right;\">\n",
       "      <th></th>\n",
       "      <th>sales</th>\n",
       "      <th>city</th>\n",
       "      <th>size</th>\n",
       "    </tr>\n",
       "  </thead>\n",
       "  <tbody>\n",
       "    <tr>\n",
       "      <th>0</th>\n",
       "      <td>100000</td>\n",
       "      <td>Tampa</td>\n",
       "      <td>Small</td>\n",
       "    </tr>\n",
       "    <tr>\n",
       "      <th>1</th>\n",
       "      <td>222000</td>\n",
       "      <td>Tampa</td>\n",
       "      <td>Medium</td>\n",
       "    </tr>\n",
       "    <tr>\n",
       "      <th>2</th>\n",
       "      <td>1000000</td>\n",
       "      <td>Orlando</td>\n",
       "      <td>Large</td>\n",
       "    </tr>\n",
       "    <tr>\n",
       "      <th>3</th>\n",
       "      <td>522000</td>\n",
       "      <td>Jacksonville</td>\n",
       "      <td>Large</td>\n",
       "    </tr>\n",
       "    <tr>\n",
       "      <th>4</th>\n",
       "      <td>111111</td>\n",
       "      <td>Miami</td>\n",
       "      <td>Small</td>\n",
       "    </tr>\n",
       "  </tbody>\n",
       "</table>\n",
       "</div>"
      ],
      "text/plain": [
       "     sales          city    size\n",
       "0   100000         Tampa   Small\n",
       "1   222000         Tampa  Medium\n",
       "2  1000000       Orlando   Large\n",
       "3   522000  Jacksonville   Large\n",
       "4   111111         Miami   Small"
      ]
     },
     "execution_count": 11,
     "metadata": {},
     "output_type": "execute_result"
    }
   ],
   "source": [
    "df = pd.DataFrame(data = d)\n",
    "df.head()"
   ]
  },
  {
   "cell_type": "code",
   "execution_count": 12,
   "id": "c1e29d91-ac65-42fd-a373-ce7b444a6a13",
   "metadata": {},
   "outputs": [
    {
     "data": {
      "text/plain": [
       "array(['Tampa', 'Orlando', 'Jacksonville', 'Miami'], dtype=object)"
      ]
     },
     "execution_count": 12,
     "metadata": {},
     "output_type": "execute_result"
    }
   ],
   "source": [
    "df['city'].unique()"
   ]
  },
  {
   "cell_type": "code",
   "execution_count": 13,
   "id": "d8270186-7bd0-459d-ac16-0683a4b76fc5",
   "metadata": {},
   "outputs": [],
   "source": [
    "from sklearn.preprocessing import OneHotEncoder"
   ]
  },
  {
   "cell_type": "code",
   "execution_count": 14,
   "id": "60fb7b84-a647-4783-8bfd-6d8ed0b768e1",
   "metadata": {},
   "outputs": [],
   "source": [
    "#creating and configuring an instance of the OneHotEncoder class from the sklearn.preprocessing module in scikit-learn\n",
    "ohe = OneHotEncoder(handle_unknown='ignore', sparse_output=False).set_output(transform=\"pandas\")"
   ]
  },
  {
   "cell_type": "code",
   "execution_count": 15,
   "id": "bcab2253-4726-49fc-bccc-42fa238b7936",
   "metadata": {},
   "outputs": [],
   "source": [
    "# applying to DataFrame\n",
    "ohetransform = ohe.fit_transform(df[['size']])"
   ]
  },
  {
   "cell_type": "code",
   "execution_count": 16,
   "id": "5c223540-85d9-493e-b28c-c7916d9e4742",
   "metadata": {},
   "outputs": [
    {
     "name": "stdout",
     "output_type": "stream",
     "text": [
      "    size_Large  size_Medium  size_Small\n",
      "0          0.0          0.0         1.0\n",
      "1          0.0          1.0         0.0\n",
      "2          1.0          0.0         0.0\n",
      "3          1.0          0.0         0.0\n",
      "4          0.0          0.0         1.0\n",
      "5          0.0          1.0         0.0\n",
      "6          1.0          0.0         0.0\n",
      "7          0.0          0.0         1.0\n",
      "8          0.0          1.0         0.0\n",
      "9          0.0          1.0         0.0\n",
      "10         0.0          1.0         0.0\n",
      "11         0.0          0.0         1.0\n"
     ]
    }
   ],
   "source": [
    "print(ohetransform)"
   ]
  },
  {
   "cell_type": "code",
   "execution_count": 17,
   "id": "d98b2583-58ef-4d95-a64d-5dd7cfd8677c",
   "metadata": {},
   "outputs": [
    {
     "data": {
      "text/html": [
       "<div>\n",
       "<style scoped>\n",
       "    .dataframe tbody tr th:only-of-type {\n",
       "        vertical-align: middle;\n",
       "    }\n",
       "\n",
       "    .dataframe tbody tr th {\n",
       "        vertical-align: top;\n",
       "    }\n",
       "\n",
       "    .dataframe thead th {\n",
       "        text-align: right;\n",
       "    }\n",
       "</style>\n",
       "<table border=\"1\" class=\"dataframe\">\n",
       "  <thead>\n",
       "    <tr style=\"text-align: right;\">\n",
       "      <th></th>\n",
       "      <th>sales</th>\n",
       "      <th>city</th>\n",
       "      <th>size_Large</th>\n",
       "      <th>size_Medium</th>\n",
       "      <th>size_Small</th>\n",
       "    </tr>\n",
       "  </thead>\n",
       "  <tbody>\n",
       "    <tr>\n",
       "      <th>0</th>\n",
       "      <td>100000</td>\n",
       "      <td>Tampa</td>\n",
       "      <td>0.0</td>\n",
       "      <td>0.0</td>\n",
       "      <td>1.0</td>\n",
       "    </tr>\n",
       "    <tr>\n",
       "      <th>1</th>\n",
       "      <td>222000</td>\n",
       "      <td>Tampa</td>\n",
       "      <td>0.0</td>\n",
       "      <td>1.0</td>\n",
       "      <td>0.0</td>\n",
       "    </tr>\n",
       "    <tr>\n",
       "      <th>2</th>\n",
       "      <td>1000000</td>\n",
       "      <td>Orlando</td>\n",
       "      <td>1.0</td>\n",
       "      <td>0.0</td>\n",
       "      <td>0.0</td>\n",
       "    </tr>\n",
       "    <tr>\n",
       "      <th>3</th>\n",
       "      <td>522000</td>\n",
       "      <td>Jacksonville</td>\n",
       "      <td>1.0</td>\n",
       "      <td>0.0</td>\n",
       "      <td>0.0</td>\n",
       "    </tr>\n",
       "    <tr>\n",
       "      <th>4</th>\n",
       "      <td>111111</td>\n",
       "      <td>Miami</td>\n",
       "      <td>0.0</td>\n",
       "      <td>0.0</td>\n",
       "      <td>1.0</td>\n",
       "    </tr>\n",
       "    <tr>\n",
       "      <th>5</th>\n",
       "      <td>222222</td>\n",
       "      <td>Jacksonville</td>\n",
       "      <td>0.0</td>\n",
       "      <td>1.0</td>\n",
       "      <td>0.0</td>\n",
       "    </tr>\n",
       "    <tr>\n",
       "      <th>6</th>\n",
       "      <td>1111111</td>\n",
       "      <td>Miami</td>\n",
       "      <td>1.0</td>\n",
       "      <td>0.0</td>\n",
       "      <td>0.0</td>\n",
       "    </tr>\n",
       "    <tr>\n",
       "      <th>7</th>\n",
       "      <td>20000</td>\n",
       "      <td>Miami</td>\n",
       "      <td>0.0</td>\n",
       "      <td>0.0</td>\n",
       "      <td>1.0</td>\n",
       "    </tr>\n",
       "    <tr>\n",
       "      <th>8</th>\n",
       "      <td>75000</td>\n",
       "      <td>Orlando</td>\n",
       "      <td>0.0</td>\n",
       "      <td>1.0</td>\n",
       "      <td>0.0</td>\n",
       "    </tr>\n",
       "    <tr>\n",
       "      <th>9</th>\n",
       "      <td>90000</td>\n",
       "      <td>Orlando</td>\n",
       "      <td>0.0</td>\n",
       "      <td>1.0</td>\n",
       "      <td>0.0</td>\n",
       "    </tr>\n",
       "    <tr>\n",
       "      <th>10</th>\n",
       "      <td>1000000</td>\n",
       "      <td>Orlando</td>\n",
       "      <td>0.0</td>\n",
       "      <td>1.0</td>\n",
       "      <td>0.0</td>\n",
       "    </tr>\n",
       "    <tr>\n",
       "      <th>11</th>\n",
       "      <td>10000</td>\n",
       "      <td>Orlando</td>\n",
       "      <td>0.0</td>\n",
       "      <td>0.0</td>\n",
       "      <td>1.0</td>\n",
       "    </tr>\n",
       "  </tbody>\n",
       "</table>\n",
       "</div>"
      ],
      "text/plain": [
       "      sales          city  size_Large  size_Medium  size_Small\n",
       "0    100000         Tampa         0.0          0.0         1.0\n",
       "1    222000         Tampa         0.0          1.0         0.0\n",
       "2   1000000       Orlando         1.0          0.0         0.0\n",
       "3    522000  Jacksonville         1.0          0.0         0.0\n",
       "4    111111         Miami         0.0          0.0         1.0\n",
       "5    222222  Jacksonville         0.0          1.0         0.0\n",
       "6   1111111         Miami         1.0          0.0         0.0\n",
       "7     20000         Miami         0.0          0.0         1.0\n",
       "8     75000       Orlando         0.0          1.0         0.0\n",
       "9     90000       Orlando         0.0          1.0         0.0\n",
       "10  1000000       Orlando         0.0          1.0         0.0\n",
       "11    10000       Orlando         0.0          0.0         1.0"
      ]
     },
     "execution_count": 17,
     "metadata": {},
     "output_type": "execute_result"
    }
   ],
   "source": [
    "df = pd.concat([df,ohetransform],axis=1).drop(columns=[\"size\"])\n",
    "df"
   ]
  },
  {
   "cell_type": "code",
   "execution_count": null,
   "id": "f8ab769b-6433-4e0c-9f15-a93115d97b6a",
   "metadata": {},
   "outputs": [],
   "source": []
  }
 ],
 "metadata": {
  "kernelspec": {
   "display_name": "Python 3 (ipykernel)",
   "language": "python",
   "name": "python3"
  },
  "language_info": {
   "codemirror_mode": {
    "name": "ipython",
    "version": 3
   },
   "file_extension": ".py",
   "mimetype": "text/x-python",
   "name": "python",
   "nbconvert_exporter": "python",
   "pygments_lexer": "ipython3",
   "version": "3.11.7"
  },
  "widgets": {
   "application/vnd.jupyter.widget-state+json": {
    "state": {},
    "version_major": 2,
    "version_minor": 0
   }
  }
 },
 "nbformat": 4,
 "nbformat_minor": 5
}
